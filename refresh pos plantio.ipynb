{
 "cells": [
  {
   "cell_type": "code",
   "execution_count": 1,
   "metadata": {},
   "outputs": [],
   "source": [
    "#Atualizar base de dados do 1ºpós plantio"
   ]
  },
  {
   "cell_type": "code",
   "execution_count": 2,
   "metadata": {},
   "outputs": [],
   "source": [
    "import pandas as pd\n",
    "import sys\n",
    "import os\n",
    "import time\n",
    "from datetime import datetime, timedelta\n",
    "import shutil"
   ]
  },
  {
   "cell_type": "code",
   "execution_count": 3,
   "metadata": {},
   "outputs": [],
   "source": [
    "#Data\n",
    "Date = time.strftime(\"%Y%m%d\")\n",
    "days_ago = datetime.now() - timedelta(days=1)\n",
    "days_ago_str = days_ago.strftime(\"%m/%d/%Y\")\n",
    "\n",
    "#Nome do projeto\n",
    "projname = Date"
   ]
  },
  {
   "cell_type": "markdown",
   "metadata": {},
   "source": [
    "Criar pasta"
   ]
  },
  {
   "cell_type": "code",
   "execution_count": 4,
   "metadata": {},
   "outputs": [],
   "source": [
    "dir = r'\\\\masrv059\\SIG_Mensuração\\Inventário\\28 - Pos\\1º pós\\2020\\Processamento\\{}'.format(projname)\n",
    "if os.path.exists(dir):\n",
    "    shutil.rmtree(dir)\n",
    "os.makedirs(dir)"
   ]
  },
  {
   "cell_type": "markdown",
   "metadata": {},
   "source": [
    "Copiar arquivo "
   ]
  },
  {
   "cell_type": "code",
   "execution_count": 5,
   "metadata": {},
   "outputs": [
    {
     "data": {
      "text/plain": [
       "'\\\\\\\\masrv059\\\\SIG_Mensuração\\\\Inventário\\\\28 - Pos\\\\1º pós\\\\2020\\\\Processamento\\\\20200717\\\\posgps.xlsx'"
      ]
     },
     "execution_count": 5,
     "metadata": {},
     "output_type": "execute_result"
    }
   ],
   "source": [
    "shutil.copyfile(r'\\\\spotfire.klabin.net\\spotfirefiles$\\Florestal\\SIG\\PROGNOSE & PRODUÇÃO\\IFS1\\pos_gps.xlsx',\n",
    "                r'\\\\masrv059\\SIG_Mensuração\\Inventário\\28 - Pos\\1º pós\\2020\\Processamento\\{}\\posgps.xlsx'.format(projname))"
   ]
  },
  {
   "cell_type": "markdown",
   "metadata": {},
   "source": [
    "Importar tabelas"
   ]
  },
  {
   "cell_type": "code",
   "execution_count": 6,
   "metadata": {},
   "outputs": [],
   "source": [
    "pos = pd.read_excel(r'\\\\masrv059\\SIG_Mensuração\\Inventário\\28 - Pos\\1º pós\\2020\\Processamento\\{}\\posgps.xlsx'.format(projname),sheet_name='pos_gps')\n",
    "cad = pd.read_excel(r'\\\\masrv059\\SIG_Mensuração\\Inventário\\00 - Sobrevivencia talhadia\\Cadastro\\RelatórioCadastroFlorestal_20200713.XLSX')\n",
    "atual = pd.read_excel(r'\\\\masrv059\\SIG_Mensuração\\Inventário\\28 - Pos\\1º pós\\Resumo 1º pós.xlsx')\n",
    "sb = pd.read_excel(r'\\\\masrv059\\SIG_Mensuração\\Inventário\\04 - Sobrevivência\\07 - Bases\\2020\\IFS Resumo 2020 1º Levantamento.xlsm',sheet_name='IFS_RESUMO 1LEV')"
   ]
  },
  {
   "cell_type": "code",
   "execution_count": 7,
   "metadata": {},
   "outputs": [
    {
     "data": {
      "text/plain": [
       "['ID_TALHAO',\n",
       " 'Area_Atual',\n",
       " 'Area_Pos',\n",
       " 'Plantio_em_APP',\n",
       " 'Plantio_em_Estradas',\n",
       " 'Area_Plantada_a_Mais',\n",
       " 'Area_Sem_Plantio',\n",
       " 'ds']"
      ]
     },
     "execution_count": 7,
     "metadata": {},
     "output_type": "execute_result"
    }
   ],
   "source": [
    "pos.columns.to_list()"
   ]
  },
  {
   "cell_type": "markdown",
   "metadata": {},
   "source": [
    "Verificar se já existe na base atual"
   ]
  },
  {
   "cell_type": "code",
   "execution_count": 8,
   "metadata": {},
   "outputs": [],
   "source": [
    "df = pd.merge(pos,atual, left_on = ['ID_TALHAO'], right_on = ['index'],how = 'outer')"
   ]
  },
  {
   "cell_type": "code",
   "execution_count": 9,
   "metadata": {},
   "outputs": [
    {
     "data": {
      "text/plain": [
       "['ID_TALHAO',\n",
       " 'Area_Atual',\n",
       " 'Area_Pos',\n",
       " 'Plantio_em_APP',\n",
       " 'Plantio_em_Estradas',\n",
       " 'Area_Plantada_a_Mais',\n",
       " 'Area_Sem_Plantio',\n",
       " 'ds',\n",
       " 'index',\n",
       " 'ESP',\n",
       " 'data de plantio',\n",
       " 'mês de plantio',\n",
       " 'ano de plantio',\n",
       " 'status cadastro',\n",
       " 'Área readequação',\n",
       " 'Área pós GPS',\n",
       " 'Efetivo plantio',\n",
       " 'Plantio em APP',\n",
       " 'Plantio em estradas restritas',\n",
       " 'Plantio excedente',\n",
       " 'Falha de plantio',\n",
       " 'Aproveitamento',\n",
       " 'dt_levantamento',\n",
       " 'Expansão',\n",
       " 'Regional',\n",
       " 'Observação']"
      ]
     },
     "execution_count": 9,
     "metadata": {},
     "output_type": "execute_result"
    }
   ],
   "source": [
    "df.columns.to_list()"
   ]
  },
  {
   "cell_type": "code",
   "execution_count": 10,
   "metadata": {},
   "outputs": [],
   "source": [
    "df.fillna('.', inplace=True)"
   ]
  },
  {
   "cell_type": "code",
   "execution_count": 11,
   "metadata": {},
   "outputs": [],
   "source": [
    "options = ['.']\n",
    "df_2 =df.loc[df['index'].isin(options)]"
   ]
  },
  {
   "cell_type": "code",
   "execution_count": 12,
   "metadata": {},
   "outputs": [],
   "source": [
    "df_2.to_excel(r'\\\\masrv059\\SIG_Mensuração\\Inventário\\28 - Pos\\1º pós\\2020\\Processamento\\{}\\test.xlsx'.format(projname))"
   ]
  },
  {
   "cell_type": "code",
   "execution_count": 13,
   "metadata": {},
   "outputs": [
    {
     "data": {
      "text/plain": [
       "['Tipo utiliz.da UL',\n",
       " 'Terreno',\n",
       " 'Objeto de locação',\n",
       " 'Denom.objeto locação',\n",
       " 'Status',\n",
       " 'Status.1',\n",
       " 'Município',\n",
       " 'Área Efetivo Plantio',\n",
       " 'Área Plantada (ha)',\n",
       " 'Área Plantada Falha/Resíduo HA',\n",
       " 'Área sem plantio (ha)',\n",
       " 'Área APPF',\n",
       " 'SCP',\n",
       " 'Tipo Talhão',\n",
       " 'Propriedade da Floresta',\n",
       " 'Tipo de área',\n",
       " 'Ordem Interna',\n",
       " 'Unidade de manejo',\n",
       " 'Ciclo Plantio',\n",
       " 'Data Inicio Ciclo',\n",
       " 'Data Fim Ciclo',\n",
       " 'Data de Plantio',\n",
       " 'Condição',\n",
       " 'Fase',\n",
       " 'Tipo de Plantio',\n",
       " 'Tipo de Manejo',\n",
       " 'Tipo Experimento',\n",
       " 'Quantidade de mudas plantadas',\n",
       " 'Certificação FSC',\n",
       " 'Espaçamento entre Linhas',\n",
       " 'Espaçamento entre Plantas',\n",
       " 'Projeto Silvicultura',\n",
       " 'Rotação',\n",
       " 'Data de Inicio',\n",
       " 'Data fim da rotação',\n",
       " 'Ultima intervenção',\n",
       " 'Data da ultima intervenção',\n",
       " 'Linha de desbaste sistemático',\n",
       " 'Desbaste Seletivo',\n",
       " 'Última desrama',\n",
       " 'Data Última desrama',\n",
       " 'Altura de desrama',\n",
       " 'Espécies',\n",
       " 'Descrição Espécie',\n",
       " 'Procedência do material genético',\n",
       " 'Origem Material Genético',\n",
       " 'Clone Semente',\n",
       " 'Viveiro',\n",
       " 'Local Coleta',\n",
       " 'Geração',\n",
       " 'Família',\n",
       " 'Propagação',\n",
       " 'Número do Contrato',\n",
       " 'Denom.tipo contrato',\n",
       " 'Proprietario',\n",
       " '% Total Proprietario',\n",
       " 'Início do contrato',\n",
       " 'Data Fim de Contrato',\n",
       " 'Data Fim com Carência',\n",
       " 'Macro Regional',\n",
       " 'Expansão Puma II',\n",
       " 'Centro',\n",
       " 'Latitude',\n",
       " 'Longitude']"
      ]
     },
     "execution_count": 13,
     "metadata": {},
     "output_type": "execute_result"
    }
   ],
   "source": [
    "cad.columns.to_list()"
   ]
  },
  {
   "cell_type": "code",
   "execution_count": 14,
   "metadata": {},
   "outputs": [],
   "source": [
    "df_3 = pd.merge(df_2,cad, left_on = ['ID_TALHAO'], right_on = ['Objeto de locação'],how = 'outer')"
   ]
  },
  {
   "cell_type": "code",
   "execution_count": 15,
   "metadata": {},
   "outputs": [
    {
     "data": {
      "text/html": [
       "<div>\n",
       "<style scoped>\n",
       "    .dataframe tbody tr th:only-of-type {\n",
       "        vertical-align: middle;\n",
       "    }\n",
       "\n",
       "    .dataframe tbody tr th {\n",
       "        vertical-align: top;\n",
       "    }\n",
       "\n",
       "    .dataframe thead th {\n",
       "        text-align: right;\n",
       "    }\n",
       "</style>\n",
       "<table border=\"1\" class=\"dataframe\">\n",
       "  <thead>\n",
       "    <tr style=\"text-align: right;\">\n",
       "      <th></th>\n",
       "      <th>ID_TALHAO</th>\n",
       "      <th>Area_Atual</th>\n",
       "      <th>Area_Pos</th>\n",
       "      <th>Plantio_em_APP</th>\n",
       "      <th>Plantio_em_Estradas</th>\n",
       "      <th>Area_Plantada_a_Mais</th>\n",
       "      <th>Area_Sem_Plantio</th>\n",
       "      <th>ds</th>\n",
       "      <th>index</th>\n",
       "      <th>ESP</th>\n",
       "      <th>...</th>\n",
       "      <th>Proprietario</th>\n",
       "      <th>% Total Proprietario</th>\n",
       "      <th>Início do contrato</th>\n",
       "      <th>Data Fim de Contrato</th>\n",
       "      <th>Data Fim com Carência</th>\n",
       "      <th>Macro Regional</th>\n",
       "      <th>Expansão Puma II</th>\n",
       "      <th>Centro</th>\n",
       "      <th>Latitude</th>\n",
       "      <th>Longitude</th>\n",
       "    </tr>\n",
       "  </thead>\n",
       "  <tbody>\n",
       "    <tr>\n",
       "      <td>0</td>\n",
       "      <td>APXH7B</td>\n",
       "      <td>1.035124</td>\n",
       "      <td>0.726268</td>\n",
       "      <td>0.000000</td>\n",
       "      <td>0.000000</td>\n",
       "      <td>0.002299</td>\n",
       "      <td>0.264879</td>\n",
       "      <td>APXH7B</td>\n",
       "      <td>.</td>\n",
       "      <td>.</td>\n",
       "      <td>...</td>\n",
       "      <td>NaN</td>\n",
       "      <td>NaN</td>\n",
       "      <td>NaT</td>\n",
       "      <td>NaN</td>\n",
       "      <td>NaN</td>\n",
       "      <td>NaN</td>\n",
       "      <td>NaN</td>\n",
       "      <td>NaN</td>\n",
       "      <td>NaN</td>\n",
       "      <td>NaN</td>\n",
       "    </tr>\n",
       "    <tr>\n",
       "      <td>1</td>\n",
       "      <td>BMOD6B</td>\n",
       "      <td>2.198933</td>\n",
       "      <td>2.148224</td>\n",
       "      <td>0.000000</td>\n",
       "      <td>0.200831</td>\n",
       "      <td>0.048171</td>\n",
       "      <td>0.158886</td>\n",
       "      <td>BMOD6B</td>\n",
       "      <td>.</td>\n",
       "      <td>.</td>\n",
       "      <td>...</td>\n",
       "      <td>NaN</td>\n",
       "      <td>NaN</td>\n",
       "      <td>NaT</td>\n",
       "      <td>NaN</td>\n",
       "      <td>NaN</td>\n",
       "      <td>NaN</td>\n",
       "      <td>NaN</td>\n",
       "      <td>NaN</td>\n",
       "      <td>NaN</td>\n",
       "      <td>NaN</td>\n",
       "    </tr>\n",
       "    <tr>\n",
       "      <td>2</td>\n",
       "      <td>CCBD5A</td>\n",
       "      <td>0.675101</td>\n",
       "      <td>0.675101</td>\n",
       "      <td>0.000000</td>\n",
       "      <td>0.000000</td>\n",
       "      <td>0.000000</td>\n",
       "      <td>0.000000</td>\n",
       "      <td>CCBD5A</td>\n",
       "      <td>.</td>\n",
       "      <td>.</td>\n",
       "      <td>...</td>\n",
       "      <td>COMERCIAL AGRICOLA - BARRA BONITA LTDA</td>\n",
       "      <td>0.0</td>\n",
       "      <td>2019-05-03</td>\n",
       "      <td>2034-05-03 00:00:00</td>\n",
       "      <td>2034-05-03 00:00:00</td>\n",
       "      <td>ORT - ORTIGUEIRA</td>\n",
       "      <td>X</td>\n",
       "      <td>MA02</td>\n",
       "      <td>-23,9762206764082</td>\n",
       "      <td>-51,0353701321442</td>\n",
       "    </tr>\n",
       "    <tr>\n",
       "      <td>3</td>\n",
       "      <td>CCBE1A</td>\n",
       "      <td>2.269304</td>\n",
       "      <td>2.269304</td>\n",
       "      <td>0.014356</td>\n",
       "      <td>0.000000</td>\n",
       "      <td>0.000000</td>\n",
       "      <td>0.000000</td>\n",
       "      <td>CCBE1A</td>\n",
       "      <td>.</td>\n",
       "      <td>.</td>\n",
       "      <td>...</td>\n",
       "      <td>COMERCIAL AGRICOLA - BARRA BONITA LTDA</td>\n",
       "      <td>0.0</td>\n",
       "      <td>2019-05-03</td>\n",
       "      <td>2034-05-03 00:00:00</td>\n",
       "      <td>2034-05-03 00:00:00</td>\n",
       "      <td>ORT - ORTIGUEIRA</td>\n",
       "      <td>X</td>\n",
       "      <td>MA02</td>\n",
       "      <td>-23,981848115153</td>\n",
       "      <td>-51,0482120125802</td>\n",
       "    </tr>\n",
       "    <tr>\n",
       "      <td>4</td>\n",
       "      <td>CCBE2A</td>\n",
       "      <td>10.840206</td>\n",
       "      <td>10.840206</td>\n",
       "      <td>0.325813</td>\n",
       "      <td>0.000000</td>\n",
       "      <td>0.000000</td>\n",
       "      <td>0.000000</td>\n",
       "      <td>CCBE2A</td>\n",
       "      <td>.</td>\n",
       "      <td>.</td>\n",
       "      <td>...</td>\n",
       "      <td>NaN</td>\n",
       "      <td>NaN</td>\n",
       "      <td>NaT</td>\n",
       "      <td>NaN</td>\n",
       "      <td>NaN</td>\n",
       "      <td>NaN</td>\n",
       "      <td>NaN</td>\n",
       "      <td>NaN</td>\n",
       "      <td>NaN</td>\n",
       "      <td>NaN</td>\n",
       "    </tr>\n",
       "  </tbody>\n",
       "</table>\n",
       "<p>5 rows × 90 columns</p>\n",
       "</div>"
      ],
      "text/plain": [
       "  ID_TALHAO  Area_Atual   Area_Pos  Plantio_em_APP  Plantio_em_Estradas  \\\n",
       "0    APXH7B    1.035124   0.726268        0.000000             0.000000   \n",
       "1    BMOD6B    2.198933   2.148224        0.000000             0.200831   \n",
       "2    CCBD5A    0.675101   0.675101        0.000000             0.000000   \n",
       "3    CCBE1A    2.269304   2.269304        0.014356             0.000000   \n",
       "4    CCBE2A   10.840206  10.840206        0.325813             0.000000   \n",
       "\n",
       "   Area_Plantada_a_Mais  Area_Sem_Plantio      ds index ESP  ...  \\\n",
       "0              0.002299          0.264879  APXH7B     .   .  ...   \n",
       "1              0.048171          0.158886  BMOD6B     .   .  ...   \n",
       "2              0.000000          0.000000  CCBD5A     .   .  ...   \n",
       "3              0.000000          0.000000  CCBE1A     .   .  ...   \n",
       "4              0.000000          0.000000  CCBE2A     .   .  ...   \n",
       "\n",
       "                             Proprietario % Total Proprietario  \\\n",
       "0                                     NaN                  NaN   \n",
       "1                                     NaN                  NaN   \n",
       "2  COMERCIAL AGRICOLA - BARRA BONITA LTDA                  0.0   \n",
       "3  COMERCIAL AGRICOLA - BARRA BONITA LTDA                  0.0   \n",
       "4                                     NaN                  NaN   \n",
       "\n",
       "  Início do contrato Data Fim de Contrato Data Fim com Carência  \\\n",
       "0                NaT                  NaN                   NaN   \n",
       "1                NaT                  NaN                   NaN   \n",
       "2         2019-05-03  2034-05-03 00:00:00   2034-05-03 00:00:00   \n",
       "3         2019-05-03  2034-05-03 00:00:00   2034-05-03 00:00:00   \n",
       "4                NaT                  NaN                   NaN   \n",
       "\n",
       "     Macro Regional Expansão Puma II Centro           Latitude  \\\n",
       "0               NaN              NaN    NaN                NaN   \n",
       "1               NaN              NaN    NaN                NaN   \n",
       "2  ORT - ORTIGUEIRA                X   MA02  -23,9762206764082   \n",
       "3  ORT - ORTIGUEIRA                X   MA02   -23,981848115153   \n",
       "4               NaN              NaN    NaN                NaN   \n",
       "\n",
       "           Longitude  \n",
       "0                NaN  \n",
       "1                NaN  \n",
       "2  -51,0353701321442  \n",
       "3  -51,0482120125802  \n",
       "4                NaN  \n",
       "\n",
       "[5 rows x 90 columns]"
      ]
     },
     "execution_count": 15,
     "metadata": {},
     "output_type": "execute_result"
    }
   ],
   "source": [
    "df_3.head()"
   ]
  },
  {
   "cell_type": "code",
   "execution_count": 16,
   "metadata": {},
   "outputs": [],
   "source": [
    "df_3 = df_3[df_3['Objeto de locação'].notna()]"
   ]
  },
  {
   "cell_type": "code",
   "execution_count": 17,
   "metadata": {},
   "outputs": [],
   "source": [
    "df_3 = df_3[df_3['ID_TALHAO'].notna()]"
   ]
  },
  {
   "cell_type": "code",
   "execution_count": 25,
   "metadata": {},
   "outputs": [
    {
     "data": {
      "text/plain": [
       "['ID_TALHAO',\n",
       " 'Area_Atual',\n",
       " 'Area_Pos',\n",
       " 'Plantio_em_APP',\n",
       " 'Plantio_em_Estradas',\n",
       " 'Area_Plantada_a_Mais',\n",
       " 'Area_Sem_Plantio',\n",
       " 'ds',\n",
       " 'index',\n",
       " 'ESP',\n",
       " 'data de plantio',\n",
       " 'mês de plantio',\n",
       " 'ano de plantio',\n",
       " 'status cadastro',\n",
       " 'Área readequação',\n",
       " 'Área pós GPS',\n",
       " 'Efetivo plantio',\n",
       " 'Plantio em APP',\n",
       " 'Plantio em estradas restritas',\n",
       " 'Plantio excedente',\n",
       " 'Falha de plantio',\n",
       " 'Aproveitamento',\n",
       " 'dt_levantamento',\n",
       " 'Expansão',\n",
       " 'Regional',\n",
       " 'Observação',\n",
       " 'Tipo utiliz.da UL',\n",
       " 'Terreno',\n",
       " 'Objeto de locação',\n",
       " 'Denom.objeto locação',\n",
       " 'Status',\n",
       " 'Status.1',\n",
       " 'Município',\n",
       " 'Área Efetivo Plantio',\n",
       " 'Área Plantada (ha)',\n",
       " 'Área Plantada Falha/Resíduo HA',\n",
       " 'Área sem plantio (ha)',\n",
       " 'Área APPF',\n",
       " 'SCP',\n",
       " 'Tipo Talhão',\n",
       " 'Propriedade da Floresta',\n",
       " 'Tipo de área',\n",
       " 'Ordem Interna',\n",
       " 'Unidade de manejo',\n",
       " 'Ciclo Plantio',\n",
       " 'Data Inicio Ciclo',\n",
       " 'Data Fim Ciclo',\n",
       " 'Data de Plantio',\n",
       " 'Condição',\n",
       " 'Fase',\n",
       " 'Tipo de Plantio',\n",
       " 'Tipo de Manejo',\n",
       " 'Tipo Experimento',\n",
       " 'Quantidade de mudas plantadas',\n",
       " 'Certificação FSC',\n",
       " 'Espaçamento entre Linhas',\n",
       " 'Espaçamento entre Plantas',\n",
       " 'Projeto Silvicultura',\n",
       " 'Rotação',\n",
       " 'Data de Inicio',\n",
       " 'Data fim da rotação',\n",
       " 'Ultima intervenção',\n",
       " 'Data da ultima intervenção',\n",
       " 'Linha de desbaste sistemático',\n",
       " 'Desbaste Seletivo',\n",
       " 'Última desrama',\n",
       " 'Data Última desrama',\n",
       " 'Altura de desrama',\n",
       " 'Espécies',\n",
       " 'Descrição Espécie',\n",
       " 'Procedência do material genético',\n",
       " 'Origem Material Genético',\n",
       " 'Clone Semente',\n",
       " 'Viveiro',\n",
       " 'Local Coleta',\n",
       " 'Geração',\n",
       " 'Família',\n",
       " 'Propagação',\n",
       " 'Número do Contrato',\n",
       " 'Denom.tipo contrato',\n",
       " 'Proprietario',\n",
       " '% Total Proprietario',\n",
       " 'Início do contrato',\n",
       " 'Data Fim de Contrato',\n",
       " 'Data Fim com Carência',\n",
       " 'Macro Regional',\n",
       " 'Expansão Puma II',\n",
       " 'Centro',\n",
       " 'Latitude',\n",
       " 'Longitude']"
      ]
     },
     "execution_count": 25,
     "metadata": {},
     "output_type": "execute_result"
    }
   ],
   "source": [
    "df_3.columns.to_list()"
   ]
  },
  {
   "cell_type": "code",
   "execution_count": 19,
   "metadata": {},
   "outputs": [],
   "source": [
    "df_4 = pd.merge(df_3,sb, left_on = ['ID_TALHAO'], right_on = ['INDEX'],how = 'outer')"
   ]
  },
  {
   "cell_type": "code",
   "execution_count": 20,
   "metadata": {},
   "outputs": [],
   "source": [
    "df_4.to_excel(r'\\\\masrv059\\SIG_Mensuração\\Inventário\\28 - Pos\\1º pós\\2020\\Processamento\\{}\\test2.xlsx'.format(projname))"
   ]
  },
  {
   "cell_type": "code",
   "execution_count": 21,
   "metadata": {},
   "outputs": [],
   "source": [
    "rel = df_4[['ID_TALHAO','Espécies','Data de Plantio','Status.1','Area_Atual','Area_Pos','Plantio_em_APP','Plantio_em_Estradas','Area_Plantada_a_Mais',\n",
    " 'Area_Sem_Plantio', 'Data levantamento','Expansao','Regional_key','Comentário']]"
   ]
  },
  {
   "cell_type": "code",
   "execution_count": 33,
   "metadata": {},
   "outputs": [],
   "source": [
    "rel['year'] = pd.DatetimeIndex(rel['Data de Plantio']).year\n",
    "rel['month'] = pd.DatetimeIndex(rel['Data de Plantio']).month\n",
    "rel['efetivo'] = rel['Area_Pos']-rel['Plantio_em_APP']-rel['Plantio_em_Estradas']-rel['Area_Plantada_a_Mais']\n",
    "rel['aproveitamento'] = rel['efetivo']/rel['Area_Atual']"
   ]
  },
  {
   "cell_type": "code",
   "execution_count": 34,
   "metadata": {},
   "outputs": [],
   "source": [
    "rel=rel[['ID_TALHAO','Espécies','Data de Plantio','month','year','Status.1','Area_Atual','Area_Pos','efetivo','Plantio_em_APP','Plantio_em_Estradas','Area_Plantada_a_Mais',\n",
    " 'Area_Sem_Plantio','aproveitamento','Data levantamento','Expansao','Regional_key','Comentário']]"
   ]
  },
  {
   "cell_type": "code",
   "execution_count": 35,
   "metadata": {},
   "outputs": [],
   "source": [
    "rel = rel[rel['ID_TALHAO'].notna()]"
   ]
  },
  {
   "cell_type": "code",
   "execution_count": 37,
   "metadata": {},
   "outputs": [],
   "source": [
    "rel.to_excel(r'\\\\masrv059\\SIG_Mensuração\\Inventário\\28 - Pos\\1º pós\\2020\\Processamento\\{}\\relatorio.xlsx'.format(projname))"
   ]
  },
  {
   "cell_type": "code",
   "execution_count": null,
   "metadata": {},
   "outputs": [],
   "source": []
  }
 ],
 "metadata": {
  "kernelspec": {
   "display_name": "Python 3",
   "language": "python",
   "name": "python3"
  },
  "language_info": {
   "codemirror_mode": {
    "name": "ipython",
    "version": 3
   },
   "file_extension": ".py",
   "mimetype": "text/x-python",
   "name": "python",
   "nbconvert_exporter": "python",
   "pygments_lexer": "ipython3",
   "version": "3.7.4"
  }
 },
 "nbformat": 4,
 "nbformat_minor": 4
}
